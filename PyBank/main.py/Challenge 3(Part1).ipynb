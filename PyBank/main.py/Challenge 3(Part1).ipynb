{
 "cells": [
  {
   "cell_type": "code",
   "execution_count": 9,
   "id": "1f182600-5670-4724-90bc-c619420521ab",
   "metadata": {
    "tags": []
   },
   "outputs": [],
   "source": [
    "import csv"
   ]
  },
  {
   "cell_type": "code",
   "execution_count": 10,
   "id": "d7f977b2-83d6-4238-8f5e-fdfb438a0da5",
   "metadata": {},
   "outputs": [],
   "source": [
    "def calculate_profit_losses(file_path=\"./budget_data.csv\"):\n",
    "    total_months = 0\n",
    "    net_total = 0\n",
    "    changes = []\n",
    "    greatest_increase = [\"\", 0]\n",
    "    greatest_decrease = [\"\", 0]"
   ]
  },
  {
   "cell_type": "code",
   "execution_count": 11,
   "id": "65d13f3c-22ca-45a2-9546-8cf85a270cef",
   "metadata": {},
   "outputs": [],
   "source": [
    "total_months = 0 #initialize total_months to 0\n",
    "net_total = 0\n",
    "changes = []\n",
    "greatest_increase = [\"\", 0]\n",
    "greatest_decrease = [\"\", 0]\n",
    "\n",
    "with open(\"./budget_data.csv\", 'r') as file:\n",
    "    csv_reader = csv.reader(file)\n",
    "    header = next(csv_reader) #skip the header row\n",
    "\n",
    "\n",
    "    # Read the first row to initialize variables\n",
    "    first_row = next(csv_reader)\n",
    "    total_months += 1\n",
    "    net_total += int(first_row[1])\n",
    "    previous_profit_loss = int(first_row[1])\n",
    "\n",
    "    # Iterate through the remaining rows\n",
    "    for row in csv_reader:\n",
    "        total_months += 1\n",
    "        current_profit_loss = int(row[1])\n",
    "        net_total += current_profit_loss\n",
    "    \n",
    "    #Calculate the change in profit/loss\n",
    "        change = current_profit_loss - previous_profit_loss\n",
    "        changes.append(change)\n",
    "    \n",
    "    # Check for the greatest increase and decrease\n",
    "        if change > greatest_increase[1]:\n",
    "            greatest_increase = [row[0], change]\n",
    "        if change < greatest_decrease[1]:\n",
    "            greatest_decrease = [row[0], change]\n",
    "        \n",
    "        previous_profit_loss = current_profit_loss"
   ]
  },
  {
   "cell_type": "code",
   "execution_count": 12,
   "id": "23a553bf-f016-4c53-8171-b68753847863",
   "metadata": {
    "tags": []
   },
   "outputs": [],
   "source": [
    "#Calculate the average change\n",
    "average_change = sum(changes) / len(changes)"
   ]
  },
  {
   "cell_type": "code",
   "execution_count": 14,
   "id": "b14e14aa-3a3b-48b6-9873-050e851c5e19",
   "metadata": {
    "tags": []
   },
   "outputs": [
    {
     "name": "stdout",
     "output_type": "stream",
     "text": [
      "Financial Analysis\n",
      "----------------------------\n",
      "Total Months: 86\n",
      "Total: $22564198\n",
      "Average Change: $-8311.11\n",
      "Greatest Increase in Profits: Aug-16 ($1862002)\n",
      "Greatest Decrease in Profits: Aug-16 ($-1825558)\n"
     ]
    }
   ],
   "source": [
    "#Print the results\n",
    "print(\"Financial Analysis\")\n",
    "print(\"----------------------------\")\n",
    "print(f\"Total Months: {total_months}\")\n",
    "print(f\"Total: ${net_total}\")\n",
    "print(f\"Average Change: ${average_change: .2f}\")\n",
    "print(f\"Greatest Increase in Profits: {greatest_increase[0]} (${greatest_increase[1]})\")\n",
    "print(f\"Greatest Decrease in Profits: {greatest_increase[0]} (${greatest_decrease[1]})\")"
   ]
  },
  {
   "cell_type": "code",
   "execution_count": null,
   "id": "bc920bf2-23c5-455e-abfc-089eee1793d8",
   "metadata": {},
   "outputs": [],
   "source": []
  }
 ],
 "metadata": {
  "kernelspec": {
   "display_name": "Python 3 (ipykernel)",
   "language": "python",
   "name": "python3"
  },
  "language_info": {
   "codemirror_mode": {
    "name": "ipython",
    "version": 3
   },
   "file_extension": ".py",
   "mimetype": "text/x-python",
   "name": "python",
   "nbconvert_exporter": "python",
   "pygments_lexer": "ipython3",
   "version": "3.10.11"
  }
 },
 "nbformat": 4,
 "nbformat_minor": 5
}
