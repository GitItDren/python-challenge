{
 "cells": [
  {
   "cell_type": "code",
   "execution_count": null,
   "id": "dba14a0f-c252-4c28-b642-f521b279395e",
   "metadata": {
    "tags": []
   },
   "outputs": [],
   "source": [
    "import csv"
   ]
  },
  {
   "cell_type": "code",
   "execution_count": 8,
   "id": "cf75fce0-d35e-48a8-bdf2-aaf36e85b98f",
   "metadata": {
    "tags": []
   },
   "outputs": [],
   "source": [
    "def analyze_votes(file_path=\"./election_data.csv\"):\n",
    "    # Inititalize variables\n",
    "    total_votes = 0\n",
    "    candidates = {}"
   ]
  },
  {
   "cell_type": "code",
   "execution_count": 16,
   "id": "e3cbc049-fdcd-411e-86dd-3f3f5a796db7",
   "metadata": {
    "tags": []
   },
   "outputs": [],
   "source": [
    "total_votes = 0\n",
    "candidates = {}\n",
    "\n",
    "with open(\"C:\\\\Users\\\\Drenaline\\\\Documents\\\\TCC Data Analytics Bootcamp\\\\Challenges\\\\Module 3 Challenge\\\\Starter_Code\\\\PyPoll\\\\Resources\\\\election_data.csv\", 'r') as file:\n",
    "    csv_reader = csv.reader(file)\n",
    "    next(csv_reader) # Skip the header row\n",
    "    \n",
    "    # Iterate over each row in the dataset\n",
    "    for row in csv_reader:\n",
    "        # Extract the candidate name from the row\n",
    "        candidate = row[2]\n",
    "        \n",
    "        # Count the total number of votes\n",
    "        total_votes += 1\n",
    "        \n",
    "        # Update the vote count for the candidate\n",
    "        if candidate in candidates:\n",
    "            candidates[candidate] += 1\n",
    "        else:\n",
    "            candidates[candidate] = 1\n",
    "            \n",
    "    # Calculate the percentage of votes and find the winner\n",
    "    winner = \"\"\n",
    "    max_votes = 0\n",
    "    percentages = {}\n",
    "    \n",
    "    for candidate, votes in candidates.items():\n",
    "        percentage = (votes / total_votes) * 100\n",
    "        percentages[candidate] = round(percentage, 2)\n",
    "        \n",
    "        if votes > max_votes:\n",
    "            max_votes = votes\n",
    "            winner = candidate\n",
    "    "
   ]
  },
  {
   "cell_type": "code",
   "execution_count": 13,
   "id": "7dbbdda8-eedf-4692-946d-ac273df2526d",
   "metadata": {
    "tags": []
   },
   "outputs": [
    {
     "name": "stdout",
     "output_type": "stream",
     "text": [
      "Election Results\n",
      "-------------------------\n",
      "Total Votes: 369711\n",
      "-------------------------\n",
      "Charles Casper Stockham: 23.05% (85213)\n",
      "Diana DeGette: 73.81% (272892)\n",
      "Raymon Anthony Doane: 3.14% (11606)\n",
      "--------------------------\n",
      "Winner: Diana DeGette\n",
      "--------------------------\n"
     ]
    }
   ],
   "source": [
    "# Printing the Results!! Woo!\n",
    "print(\"Election Results\")\n",
    "print(\"-------------------------\")\n",
    "print(f\"Total Votes: {total_votes}\")\n",
    "print(\"-------------------------\")\n",
    "\n",
    "for candidate, votes in candidates.items():\n",
    "    percentage = percentages[candidate]\n",
    "    print(f\"{candidate}: {percentage}% ({votes})\")\n",
    "    \n",
    "print(\"--------------------------\")\n",
    "print(f\"Winner: {winner}\")\n",
    "print(\"--------------------------\")"
   ]
  },
  {
   "cell_type": "code",
   "execution_count": null,
   "id": "01820832-f1a8-4f27-aae1-0c718c45a6c7",
   "metadata": {},
   "outputs": [],
   "source": []
  }
 ],
 "metadata": {
  "kernelspec": {
   "display_name": "Python 3 (ipykernel)",
   "language": "python",
   "name": "python3"
  },
  "language_info": {
   "codemirror_mode": {
    "name": "ipython",
    "version": 3
   },
   "file_extension": ".py",
   "mimetype": "text/x-python",
   "name": "python",
   "nbconvert_exporter": "python",
   "pygments_lexer": "ipython3",
   "version": "3.10.11"
  }
 },
 "nbformat": 4,
 "nbformat_minor": 5
}
